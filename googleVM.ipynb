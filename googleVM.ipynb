{
 "cells": [
  {
   "cell_type": "code",
   "execution_count": 1,
   "id": "fb6c6799-87ff-4efb-8ca3-22225c2e5211",
   "metadata": {
    "collapsed": true,
    "jupyter": {
     "outputs_hidden": true
    }
   },
   "outputs": [
    {
     "name": "stdout",
     "output_type": "stream",
     "text": [
      "Collecting google-cloud-compute\n",
      "  Obtaining dependency information for google-cloud-compute from https://files.pythonhosted.org/packages/29/53/0bfcc00b81b7286f052f355d54833ad25e0d935e523718cd86528e5a92ac/google_cloud_compute-1.38.0-py3-none-any.whl.metadata\n",
      "  Downloading google_cloud_compute-1.38.0-py3-none-any.whl.metadata (10 kB)\n",
      "Collecting google-api-core[grpc]!=2.0.*,!=2.1.*,!=2.10.*,!=2.2.*,!=2.3.*,!=2.4.*,!=2.5.*,!=2.6.*,!=2.7.*,!=2.8.*,!=2.9.*,<3.0.0,>=1.34.1 (from google-cloud-compute)\n",
      "  Obtaining dependency information for google-api-core[grpc]!=2.0.*,!=2.1.*,!=2.10.*,!=2.2.*,!=2.3.*,!=2.4.*,!=2.5.*,!=2.6.*,!=2.7.*,!=2.8.*,!=2.9.*,<3.0.0,>=1.34.1 from https://files.pythonhosted.org/packages/14/4b/ead00905132820b623732b175d66354e9d3e69fcf2a5dcdab780664e7896/google_api_core-2.25.1-py3-none-any.whl.metadata\n",
      "  Downloading google_api_core-2.25.1-py3-none-any.whl.metadata (3.0 kB)\n",
      "Requirement already satisfied: google-auth!=2.24.0,!=2.25.0,<3.0.0,>=2.14.1 in c:\\users\\kj2od\\appdata\\local\\programs\\python\\python312\\lib\\site-packages (from google-cloud-compute) (2.29.0)\n",
      "Collecting proto-plus<2.0.0,>=1.22.3 (from google-cloud-compute)\n",
      "  Obtaining dependency information for proto-plus<2.0.0,>=1.22.3 from https://files.pythonhosted.org/packages/4e/6d/280c4c2ce28b1593a19ad5239c8b826871fc6ec275c21afc8e1820108039/proto_plus-1.26.1-py3-none-any.whl.metadata\n",
      "  Downloading proto_plus-1.26.1-py3-none-any.whl.metadata (2.2 kB)\n",
      "Collecting protobuf!=4.21.0,!=4.21.1,!=4.21.2,!=4.21.3,!=4.21.4,!=4.21.5,<7.0.0,>=3.20.2 (from google-cloud-compute)\n",
      "  Obtaining dependency information for protobuf!=4.21.0,!=4.21.1,!=4.21.2,!=4.21.3,!=4.21.4,!=4.21.5,<7.0.0,>=3.20.2 from https://files.pythonhosted.org/packages/8c/f3/6f58f841f6ebafe076cebeae33fc336e900619d34b1c93e4b5c97a81fdfa/protobuf-6.32.1-cp310-abi3-win_amd64.whl.metadata\n",
      "  Downloading protobuf-6.32.1-cp310-abi3-win_amd64.whl.metadata (593 bytes)\n",
      "Collecting googleapis-common-protos<2.0.0,>=1.56.2 (from google-api-core[grpc]!=2.0.*,!=2.1.*,!=2.10.*,!=2.2.*,!=2.3.*,!=2.4.*,!=2.5.*,!=2.6.*,!=2.7.*,!=2.8.*,!=2.9.*,<3.0.0,>=1.34.1->google-cloud-compute)\n",
      "  Obtaining dependency information for googleapis-common-protos<2.0.0,>=1.56.2 from https://files.pythonhosted.org/packages/86/f1/62a193f0227cf15a920390abe675f386dec35f7ae3ffe6da582d3ade42c7/googleapis_common_protos-1.70.0-py3-none-any.whl.metadata\n",
      "  Downloading googleapis_common_protos-1.70.0-py3-none-any.whl.metadata (9.3 kB)\n",
      "Requirement already satisfied: requests<3.0.0,>=2.18.0 in c:\\users\\kj2od\\appdata\\local\\programs\\python\\python312\\lib\\site-packages (from google-api-core[grpc]!=2.0.*,!=2.1.*,!=2.10.*,!=2.2.*,!=2.3.*,!=2.4.*,!=2.5.*,!=2.6.*,!=2.7.*,!=2.8.*,!=2.9.*,<3.0.0,>=1.34.1->google-cloud-compute) (2.31.0)\n",
      "Collecting grpcio<2.0.0,>=1.33.2 (from google-api-core[grpc]!=2.0.*,!=2.1.*,!=2.10.*,!=2.2.*,!=2.3.*,!=2.4.*,!=2.5.*,!=2.6.*,!=2.7.*,!=2.8.*,!=2.9.*,<3.0.0,>=1.34.1->google-cloud-compute)\n",
      "  Obtaining dependency information for grpcio<2.0.0,>=1.33.2 from https://files.pythonhosted.org/packages/5f/d7/11350d9d7fb5adc73d2b0ebf6ac1cc70135577701e607407fe6739a90021/grpcio-1.75.1-cp312-cp312-win_amd64.whl.metadata\n",
      "  Downloading grpcio-1.75.1-cp312-cp312-win_amd64.whl.metadata (3.8 kB)\n",
      "Collecting grpcio-status<2.0.0,>=1.33.2 (from google-api-core[grpc]!=2.0.*,!=2.1.*,!=2.10.*,!=2.2.*,!=2.3.*,!=2.4.*,!=2.5.*,!=2.6.*,!=2.7.*,!=2.8.*,!=2.9.*,<3.0.0,>=1.34.1->google-cloud-compute)\n",
      "  Obtaining dependency information for grpcio-status<2.0.0,>=1.33.2 from https://files.pythonhosted.org/packages/d8/ad/6f414bb0b36eee20d93af6907256f208ffcda992ae6d3d7b6a778afe31e6/grpcio_status-1.75.1-py3-none-any.whl.metadata\n",
      "  Downloading grpcio_status-1.75.1-py3-none-any.whl.metadata (1.1 kB)\n",
      "Requirement already satisfied: cachetools<6.0,>=2.0.0 in c:\\users\\kj2od\\appdata\\local\\programs\\python\\python312\\lib\\site-packages (from google-auth!=2.24.0,!=2.25.0,<3.0.0,>=2.14.1->google-cloud-compute) (5.3.3)\n",
      "Requirement already satisfied: pyasn1-modules>=0.2.1 in c:\\users\\kj2od\\appdata\\local\\programs\\python\\python312\\lib\\site-packages (from google-auth!=2.24.0,!=2.25.0,<3.0.0,>=2.14.1->google-cloud-compute) (0.4.0)\n",
      "Requirement already satisfied: rsa<5,>=3.1.4 in c:\\users\\kj2od\\appdata\\local\\programs\\python\\python312\\lib\\site-packages (from google-auth!=2.24.0,!=2.25.0,<3.0.0,>=2.14.1->google-cloud-compute) (4.9)\n",
      "Collecting typing-extensions~=4.12 (from grpcio<2.0.0,>=1.33.2->google-api-core[grpc]!=2.0.*,!=2.1.*,!=2.10.*,!=2.2.*,!=2.3.*,!=2.4.*,!=2.5.*,!=2.6.*,!=2.7.*,!=2.8.*,!=2.9.*,<3.0.0,>=1.34.1->google-cloud-compute)\n",
      "  Obtaining dependency information for typing-extensions~=4.12 from https://files.pythonhosted.org/packages/18/67/36e9267722cc04a6b9f15c7f3441c2363321a3ea07da7ae0c0707beb2a9c/typing_extensions-4.15.0-py3-none-any.whl.metadata\n",
      "  Downloading typing_extensions-4.15.0-py3-none-any.whl.metadata (3.3 kB)\n",
      "Requirement already satisfied: pyasn1<0.7.0,>=0.4.6 in c:\\users\\kj2od\\appdata\\local\\programs\\python\\python312\\lib\\site-packages (from pyasn1-modules>=0.2.1->google-auth!=2.24.0,!=2.25.0,<3.0.0,>=2.14.1->google-cloud-compute) (0.6.0)\n",
      "Requirement already satisfied: charset-normalizer<4,>=2 in c:\\users\\kj2od\\appdata\\local\\programs\\python\\python312\\lib\\site-packages (from requests<3.0.0,>=2.18.0->google-api-core[grpc]!=2.0.*,!=2.1.*,!=2.10.*,!=2.2.*,!=2.3.*,!=2.4.*,!=2.5.*,!=2.6.*,!=2.7.*,!=2.8.*,!=2.9.*,<3.0.0,>=1.34.1->google-cloud-compute) (3.3.2)\n",
      "Requirement already satisfied: idna<4,>=2.5 in c:\\users\\kj2od\\appdata\\local\\programs\\python\\python312\\lib\\site-packages (from requests<3.0.0,>=2.18.0->google-api-core[grpc]!=2.0.*,!=2.1.*,!=2.10.*,!=2.2.*,!=2.3.*,!=2.4.*,!=2.5.*,!=2.6.*,!=2.7.*,!=2.8.*,!=2.9.*,<3.0.0,>=1.34.1->google-cloud-compute) (3.6)\n",
      "Requirement already satisfied: urllib3<3,>=1.21.1 in c:\\users\\kj2od\\appdata\\local\\programs\\python\\python312\\lib\\site-packages (from requests<3.0.0,>=2.18.0->google-api-core[grpc]!=2.0.*,!=2.1.*,!=2.10.*,!=2.2.*,!=2.3.*,!=2.4.*,!=2.5.*,!=2.6.*,!=2.7.*,!=2.8.*,!=2.9.*,<3.0.0,>=1.34.1->google-cloud-compute) (2.2.1)\n",
      "Requirement already satisfied: certifi>=2017.4.17 in c:\\users\\kj2od\\appdata\\local\\programs\\python\\python312\\lib\\site-packages (from requests<3.0.0,>=2.18.0->google-api-core[grpc]!=2.0.*,!=2.1.*,!=2.10.*,!=2.2.*,!=2.3.*,!=2.4.*,!=2.5.*,!=2.6.*,!=2.7.*,!=2.8.*,!=2.9.*,<3.0.0,>=1.34.1->google-cloud-compute) (2024.2.2)\n",
      "Downloading google_cloud_compute-1.38.0-py3-none-any.whl (3.4 MB)\n",
      "   ---------------------------------------- 0.0/3.4 MB ? eta -:--:--\n",
      "   - -------------------------------------- 0.1/3.4 MB 4.3 MB/s eta 0:00:01\n",
      "   ----- ---------------------------------- 0.5/3.4 MB 6.4 MB/s eta 0:00:01\n",
      "   ------------ --------------------------- 1.1/3.4 MB 8.4 MB/s eta 0:00:01\n",
      "   -------------------- ------------------- 1.8/3.4 MB 10.3 MB/s eta 0:00:01\n",
      "   ------------------------- -------------- 2.2/3.4 MB 9.9 MB/s eta 0:00:01\n",
      "   ------------------------------------- -- 3.2/3.4 MB 12.0 MB/s eta 0:00:01\n",
      "   ---------------------------------------- 3.4/3.4 MB 11.5 MB/s eta 0:00:00\n",
      "Downloading proto_plus-1.26.1-py3-none-any.whl (50 kB)\n",
      "   ---------------------------------------- 0.0/50.2 kB ? eta -:--:--\n",
      "   ---------------------------------------- 50.2/50.2 kB ? eta 0:00:00\n",
      "Downloading protobuf-6.32.1-cp310-abi3-win_amd64.whl (435 kB)\n",
      "   ---------------------------------------- 0.0/435.7 kB ? eta -:--:--\n",
      "   --------------------------------------- 435.7/435.7 kB 28.4 MB/s eta 0:00:00\n",
      "Downloading googleapis_common_protos-1.70.0-py3-none-any.whl (294 kB)\n",
      "   ---------------------------------------- 0.0/294.5 kB ? eta -:--:--\n",
      "   --------------------------------------- 294.5/294.5 kB 19.0 MB/s eta 0:00:00\n",
      "Downloading grpcio-1.75.1-cp312-cp312-win_amd64.whl (4.6 MB)\n",
      "   ---------------------------------------- 0.0/4.6 MB ? eta -:--:--\n",
      "   ----------- ---------------------------- 1.3/4.6 MB 28.1 MB/s eta 0:00:01\n",
      "   ----------------------- ---------------- 2.7/4.6 MB 28.7 MB/s eta 0:00:01\n",
      "   ---------------------------- ----------- 3.3/4.6 MB 29.8 MB/s eta 0:00:01\n",
      "   ---------------------------- ----------- 3.3/4.6 MB 29.8 MB/s eta 0:00:01\n",
      "   ------------------------------------ --- 4.3/4.6 MB 18.2 MB/s eta 0:00:01\n",
      "   ---------------------------------------  4.6/4.6 MB 19.8 MB/s eta 0:00:01\n",
      "   ---------------------------------------- 4.6/4.6 MB 15.6 MB/s eta 0:00:00\n",
      "Downloading grpcio_status-1.75.1-py3-none-any.whl (14 kB)\n",
      "Downloading google_api_core-2.25.1-py3-none-any.whl (160 kB)\n",
      "   ---------------------------------------- 0.0/160.8 kB ? eta -:--:--\n",
      "   ---------------------------------------- 160.8/160.8 kB 4.7 MB/s eta 0:00:00\n",
      "Downloading typing_extensions-4.15.0-py3-none-any.whl (44 kB)\n",
      "   ---------------------------------------- 0.0/44.6 kB ? eta -:--:--\n",
      "   ---------------------------------------- 44.6/44.6 kB 2.1 MB/s eta 0:00:00\n",
      "Installing collected packages: typing-extensions, protobuf, proto-plus, grpcio, googleapis-common-protos, grpcio-status, google-api-core, google-cloud-compute\n",
      "  Attempting uninstall: typing-extensions\n",
      "    Found existing installation: typing_extensions 4.10.0\n",
      "    Uninstalling typing_extensions-4.10.0:\n",
      "      Successfully uninstalled typing_extensions-4.10.0\n",
      "Successfully installed google-api-core-2.25.1 google-cloud-compute-1.38.0 googleapis-common-protos-1.70.0 grpcio-1.75.1 grpcio-status-1.75.1 proto-plus-1.26.1 protobuf-6.32.1 typing-extensions-4.15.0\n",
      "Note: you may need to restart the kernel to use updated packages.\n"
     ]
    },
    {
     "name": "stderr",
     "output_type": "stream",
     "text": [
      "\n",
      "[notice] A new release of pip is available: 23.2.1 -> 25.2\n",
      "[notice] To update, run: python.exe -m pip install --upgrade pip\n"
     ]
    }
   ],
   "source": [
    "pip install google-cloud-compute"
   ]
  },
  {
   "cell_type": "code",
   "execution_count": 4,
   "id": "c97adf8a-9d3d-4910-8c06-b1c1d55cfc97",
   "metadata": {
    "collapsed": true,
    "jupyter": {
     "outputs_hidden": true
    }
   },
   "outputs": [
    {
     "name": "stdout",
     "output_type": "stream",
     "text": [
      "Collecting google-api-python-client\n",
      "  Obtaining dependency information for google-api-python-client from https://files.pythonhosted.org/packages/ab/06/1974f937172854bc7622eff5c2390f33542ceb843f305922922c8f5f7f17/google_api_python_client-2.183.0-py3-none-any.whl.metadata\n",
      "  Downloading google_api_python_client-2.183.0-py3-none-any.whl.metadata (7.0 kB)\n",
      "Requirement already satisfied: google-auth in c:\\users\\kj2od\\appdata\\local\\programs\\python\\python312\\lib\\site-packages (2.29.0)\n",
      "Collecting google-auth-httplib2\n",
      "  Obtaining dependency information for google-auth-httplib2 from https://files.pythonhosted.org/packages/be/8a/fe34d2f3f9470a27b01c9e76226965863f153d5fbe276f83608562e49c04/google_auth_httplib2-0.2.0-py2.py3-none-any.whl.metadata\n",
      "  Downloading google_auth_httplib2-0.2.0-py2.py3-none-any.whl.metadata (2.2 kB)\n",
      "Collecting google-auth-oauthlib\n",
      "  Obtaining dependency information for google-auth-oauthlib from https://files.pythonhosted.org/packages/ac/84/40ee070be95771acd2f4418981edb834979424565c3eec3cd88b6aa09d24/google_auth_oauthlib-1.2.2-py3-none-any.whl.metadata\n",
      "  Downloading google_auth_oauthlib-1.2.2-py3-none-any.whl.metadata (2.7 kB)\n",
      "Collecting httplib2<1.0.0,>=0.19.0 (from google-api-python-client)\n",
      "  Obtaining dependency information for httplib2<1.0.0,>=0.19.0 from https://files.pythonhosted.org/packages/8c/a2/0d269db0f6163be503775dc8b6a6fa15820cc9fdc866f6ba608d86b721f2/httplib2-0.31.0-py3-none-any.whl.metadata\n",
      "  Downloading httplib2-0.31.0-py3-none-any.whl.metadata (2.2 kB)\n",
      "Requirement already satisfied: google-api-core!=2.0.*,!=2.1.*,!=2.2.*,!=2.3.0,<3.0.0,>=1.31.5 in c:\\users\\kj2od\\appdata\\local\\programs\\python\\python312\\lib\\site-packages (from google-api-python-client) (2.25.1)\n",
      "Collecting uritemplate<5,>=3.0.1 (from google-api-python-client)\n",
      "  Obtaining dependency information for uritemplate<5,>=3.0.1 from https://files.pythonhosted.org/packages/a9/99/3ae339466c9183ea5b8ae87b34c0b897eda475d2aec2307cae60e5cd4f29/uritemplate-4.2.0-py3-none-any.whl.metadata\n",
      "  Downloading uritemplate-4.2.0-py3-none-any.whl.metadata (2.6 kB)\n",
      "Requirement already satisfied: cachetools<6.0,>=2.0.0 in c:\\users\\kj2od\\appdata\\local\\programs\\python\\python312\\lib\\site-packages (from google-auth) (5.3.3)\n",
      "Requirement already satisfied: pyasn1-modules>=0.2.1 in c:\\users\\kj2od\\appdata\\local\\programs\\python\\python312\\lib\\site-packages (from google-auth) (0.4.0)\n",
      "Requirement already satisfied: rsa<5,>=3.1.4 in c:\\users\\kj2od\\appdata\\local\\programs\\python\\python312\\lib\\site-packages (from google-auth) (4.9)\n",
      "Requirement already satisfied: requests-oauthlib>=0.7.0 in c:\\users\\kj2od\\appdata\\local\\programs\\python\\python312\\lib\\site-packages (from google-auth-oauthlib) (1.3.1)\n",
      "Requirement already satisfied: googleapis-common-protos<2.0.0,>=1.56.2 in c:\\users\\kj2od\\appdata\\local\\programs\\python\\python312\\lib\\site-packages (from google-api-core!=2.0.*,!=2.1.*,!=2.2.*,!=2.3.0,<3.0.0,>=1.31.5->google-api-python-client) (1.70.0)\n",
      "Requirement already satisfied: protobuf!=3.20.0,!=3.20.1,!=4.21.0,!=4.21.1,!=4.21.2,!=4.21.3,!=4.21.4,!=4.21.5,<7.0.0,>=3.19.5 in c:\\users\\kj2od\\appdata\\local\\programs\\python\\python312\\lib\\site-packages (from google-api-core!=2.0.*,!=2.1.*,!=2.2.*,!=2.3.0,<3.0.0,>=1.31.5->google-api-python-client) (6.32.1)\n",
      "Requirement already satisfied: proto-plus<2.0.0,>=1.22.3 in c:\\users\\kj2od\\appdata\\local\\programs\\python\\python312\\lib\\site-packages (from google-api-core!=2.0.*,!=2.1.*,!=2.2.*,!=2.3.0,<3.0.0,>=1.31.5->google-api-python-client) (1.26.1)\n",
      "Requirement already satisfied: requests<3.0.0,>=2.18.0 in c:\\users\\kj2od\\appdata\\local\\programs\\python\\python312\\lib\\site-packages (from google-api-core!=2.0.*,!=2.1.*,!=2.2.*,!=2.3.0,<3.0.0,>=1.31.5->google-api-python-client) (2.31.0)\n",
      "Requirement already satisfied: pyparsing<4,>=3.0.4 in c:\\users\\kj2od\\appdata\\local\\programs\\python\\python312\\lib\\site-packages (from httplib2<1.0.0,>=0.19.0->google-api-python-client) (3.1.2)\n",
      "Requirement already satisfied: pyasn1<0.7.0,>=0.4.6 in c:\\users\\kj2od\\appdata\\local\\programs\\python\\python312\\lib\\site-packages (from pyasn1-modules>=0.2.1->google-auth) (0.6.0)\n",
      "Requirement already satisfied: oauthlib>=3.0.0 in c:\\users\\kj2od\\appdata\\local\\programs\\python\\python312\\lib\\site-packages (from requests-oauthlib>=0.7.0->google-auth-oauthlib) (3.2.2)\n",
      "Requirement already satisfied: charset-normalizer<4,>=2 in c:\\users\\kj2od\\appdata\\local\\programs\\python\\python312\\lib\\site-packages (from requests<3.0.0,>=2.18.0->google-api-core!=2.0.*,!=2.1.*,!=2.2.*,!=2.3.0,<3.0.0,>=1.31.5->google-api-python-client) (3.3.2)\n",
      "Requirement already satisfied: idna<4,>=2.5 in c:\\users\\kj2od\\appdata\\local\\programs\\python\\python312\\lib\\site-packages (from requests<3.0.0,>=2.18.0->google-api-core!=2.0.*,!=2.1.*,!=2.2.*,!=2.3.0,<3.0.0,>=1.31.5->google-api-python-client) (3.6)\n",
      "Requirement already satisfied: urllib3<3,>=1.21.1 in c:\\users\\kj2od\\appdata\\local\\programs\\python\\python312\\lib\\site-packages (from requests<3.0.0,>=2.18.0->google-api-core!=2.0.*,!=2.1.*,!=2.2.*,!=2.3.0,<3.0.0,>=1.31.5->google-api-python-client) (2.2.1)\n",
      "Requirement already satisfied: certifi>=2017.4.17 in c:\\users\\kj2od\\appdata\\local\\programs\\python\\python312\\lib\\site-packages (from requests<3.0.0,>=2.18.0->google-api-core!=2.0.*,!=2.1.*,!=2.2.*,!=2.3.0,<3.0.0,>=1.31.5->google-api-python-client) (2024.2.2)\n",
      "Downloading google_api_python_client-2.183.0-py3-none-any.whl (14.2 MB)\n",
      "   ---------------------------------------- 0.0/14.2 MB ? eta -:--:--\n",
      "   ---------------------------------------- 0.1/14.2 MB 1.3 MB/s eta 0:00:12\n",
      "   - -------------------------------------- 0.4/14.2 MB 5.4 MB/s eta 0:00:03\n",
      "   -- ------------------------------------- 0.9/14.2 MB 7.4 MB/s eta 0:00:02\n",
      "   ---- ----------------------------------- 1.6/14.2 MB 9.5 MB/s eta 0:00:02\n",
      "   ------- -------------------------------- 2.5/14.2 MB 11.4 MB/s eta 0:00:02\n",
      "   --------- ------------------------------ 3.5/14.2 MB 13.1 MB/s eta 0:00:01\n",
      "   ------------- -------------------------- 4.7/14.2 MB 14.9 MB/s eta 0:00:01\n",
      "   ---------------- ----------------------- 6.0/14.2 MB 16.6 MB/s eta 0:00:01\n",
      "   -------------------- ------------------- 7.4/14.2 MB 18.2 MB/s eta 0:00:01\n",
      "   ------------------------- -------------- 8.9/14.2 MB 19.6 MB/s eta 0:00:01\n",
      "   ----------------------------- ---------- 10.4/14.2 MB 22.6 MB/s eta 0:00:01\n",
      "   --------------------------------- ------ 12.0/14.2 MB 28.5 MB/s eta 0:00:01\n",
      "   -------------------------------------- - 13.6/14.2 MB 31.2 MB/s eta 0:00:01\n",
      "   ---------------------------------------  14.2/14.2 MB 31.2 MB/s eta 0:00:01\n",
      "   ---------------------------------------- 14.2/14.2 MB 27.3 MB/s eta 0:00:00\n",
      "Downloading google_auth_httplib2-0.2.0-py2.py3-none-any.whl (9.3 kB)\n",
      "Downloading google_auth_oauthlib-1.2.2-py3-none-any.whl (19 kB)\n",
      "Downloading httplib2-0.31.0-py3-none-any.whl (91 kB)\n",
      "   ---------------------------------------- 0.0/91.1 kB ? eta -:--:--\n",
      "   ---------------------------------------- 91.1/91.1 kB 5.1 MB/s eta 0:00:00\n",
      "Downloading uritemplate-4.2.0-py3-none-any.whl (11 kB)\n",
      "Installing collected packages: uritemplate, httplib2, google-auth-oauthlib, google-auth-httplib2, google-api-python-client\n",
      "Successfully installed google-api-python-client-2.183.0 google-auth-httplib2-0.2.0 google-auth-oauthlib-1.2.2 httplib2-0.31.0 uritemplate-4.2.0\n",
      "Note: you may need to restart the kernel to use updated packages.\n"
     ]
    },
    {
     "name": "stderr",
     "output_type": "stream",
     "text": [
      "\n",
      "[notice] A new release of pip is available: 23.2.1 -> 25.2\n",
      "[notice] To update, run: python.exe -m pip install --upgrade pip\n"
     ]
    }
   ],
   "source": [
    "pip install google-api-python-client google-auth google-auth-httplib2 google-auth-oauthlib"
   ]
  },
  {
   "cell_type": "code",
   "execution_count": 5,
   "id": "6e0ea22b-5e34-4787-ae6b-9e4c40e5473d",
   "metadata": {
    "collapsed": true,
    "jupyter": {
     "outputs_hidden": true
    }
   },
   "outputs": [
    {
     "name": "stdout",
     "output_type": "stream",
     "text": [
      "Collecting google-cloud-storage\n",
      "  Obtaining dependency information for google-cloud-storage from https://files.pythonhosted.org/packages/16/12/164a90e4692423ed5532274928b0e19c8cae345ae1aa413d78c6b688231b/google_cloud_storage-3.4.0-py3-none-any.whl.metadata\n",
      "  Downloading google_cloud_storage-3.4.0-py3-none-any.whl.metadata (13 kB)\n",
      "Requirement already satisfied: google-api-python-client in c:\\users\\kj2od\\appdata\\local\\programs\\python\\python312\\lib\\site-packages (2.183.0)\n",
      "Requirement already satisfied: google-auth in c:\\users\\kj2od\\appdata\\local\\programs\\python\\python312\\lib\\site-packages (2.29.0)\n",
      "Requirement already satisfied: google-api-core<3.0.0,>=2.15.0 in c:\\users\\kj2od\\appdata\\local\\programs\\python\\python312\\lib\\site-packages (from google-cloud-storage) (2.25.1)\n",
      "Collecting google-cloud-core<3.0.0,>=2.4.2 (from google-cloud-storage)\n",
      "  Obtaining dependency information for google-cloud-core<3.0.0,>=2.4.2 from https://files.pythonhosted.org/packages/40/86/bda7241a8da2d28a754aad2ba0f6776e35b67e37c36ae0c45d49370f1014/google_cloud_core-2.4.3-py2.py3-none-any.whl.metadata\n",
      "  Downloading google_cloud_core-2.4.3-py2.py3-none-any.whl.metadata (2.7 kB)\n",
      "Collecting google-resumable-media<3.0.0,>=2.7.2 (from google-cloud-storage)\n",
      "  Obtaining dependency information for google-resumable-media<3.0.0,>=2.7.2 from https://files.pythonhosted.org/packages/82/35/b8d3baf8c46695858cb9d8835a53baa1eeb9906ddaf2f728a5f5b640fd1e/google_resumable_media-2.7.2-py2.py3-none-any.whl.metadata\n",
      "  Downloading google_resumable_media-2.7.2-py2.py3-none-any.whl.metadata (2.2 kB)\n",
      "Requirement already satisfied: requests<3.0.0,>=2.22.0 in c:\\users\\kj2od\\appdata\\local\\programs\\python\\python312\\lib\\site-packages (from google-cloud-storage) (2.31.0)\n",
      "Collecting google-crc32c<2.0.0,>=1.1.3 (from google-cloud-storage)\n",
      "  Obtaining dependency information for google-crc32c<2.0.0,>=1.1.3 from https://files.pythonhosted.org/packages/0f/d6/77060dbd140c624e42ae3ece3df53b9d811000729a5c821b9fd671ceaac6/google_crc32c-1.7.1-cp312-cp312-win_amd64.whl.metadata\n",
      "  Downloading google_crc32c-1.7.1-cp312-cp312-win_amd64.whl.metadata (2.4 kB)\n",
      "Requirement already satisfied: httplib2<1.0.0,>=0.19.0 in c:\\users\\kj2od\\appdata\\local\\programs\\python\\python312\\lib\\site-packages (from google-api-python-client) (0.31.0)\n",
      "Requirement already satisfied: google-auth-httplib2<1.0.0,>=0.2.0 in c:\\users\\kj2od\\appdata\\local\\programs\\python\\python312\\lib\\site-packages (from google-api-python-client) (0.2.0)\n",
      "Requirement already satisfied: uritemplate<5,>=3.0.1 in c:\\users\\kj2od\\appdata\\local\\programs\\python\\python312\\lib\\site-packages (from google-api-python-client) (4.2.0)\n",
      "Requirement already satisfied: cachetools<6.0,>=2.0.0 in c:\\users\\kj2od\\appdata\\local\\programs\\python\\python312\\lib\\site-packages (from google-auth) (5.3.3)\n",
      "Requirement already satisfied: pyasn1-modules>=0.2.1 in c:\\users\\kj2od\\appdata\\local\\programs\\python\\python312\\lib\\site-packages (from google-auth) (0.4.0)\n",
      "Requirement already satisfied: rsa<5,>=3.1.4 in c:\\users\\kj2od\\appdata\\local\\programs\\python\\python312\\lib\\site-packages (from google-auth) (4.9)\n",
      "Requirement already satisfied: googleapis-common-protos<2.0.0,>=1.56.2 in c:\\users\\kj2od\\appdata\\local\\programs\\python\\python312\\lib\\site-packages (from google-api-core<3.0.0,>=2.15.0->google-cloud-storage) (1.70.0)\n",
      "Requirement already satisfied: protobuf!=3.20.0,!=3.20.1,!=4.21.0,!=4.21.1,!=4.21.2,!=4.21.3,!=4.21.4,!=4.21.5,<7.0.0,>=3.19.5 in c:\\users\\kj2od\\appdata\\local\\programs\\python\\python312\\lib\\site-packages (from google-api-core<3.0.0,>=2.15.0->google-cloud-storage) (6.32.1)\n",
      "Requirement already satisfied: proto-plus<2.0.0,>=1.22.3 in c:\\users\\kj2od\\appdata\\local\\programs\\python\\python312\\lib\\site-packages (from google-api-core<3.0.0,>=2.15.0->google-cloud-storage) (1.26.1)\n",
      "Requirement already satisfied: pyparsing<4,>=3.0.4 in c:\\users\\kj2od\\appdata\\local\\programs\\python\\python312\\lib\\site-packages (from httplib2<1.0.0,>=0.19.0->google-api-python-client) (3.1.2)\n",
      "Requirement already satisfied: pyasn1<0.7.0,>=0.4.6 in c:\\users\\kj2od\\appdata\\local\\programs\\python\\python312\\lib\\site-packages (from pyasn1-modules>=0.2.1->google-auth) (0.6.0)\n",
      "Requirement already satisfied: charset-normalizer<4,>=2 in c:\\users\\kj2od\\appdata\\local\\programs\\python\\python312\\lib\\site-packages (from requests<3.0.0,>=2.22.0->google-cloud-storage) (3.3.2)\n",
      "Requirement already satisfied: idna<4,>=2.5 in c:\\users\\kj2od\\appdata\\local\\programs\\python\\python312\\lib\\site-packages (from requests<3.0.0,>=2.22.0->google-cloud-storage) (3.6)\n",
      "Requirement already satisfied: urllib3<3,>=1.21.1 in c:\\users\\kj2od\\appdata\\local\\programs\\python\\python312\\lib\\site-packages (from requests<3.0.0,>=2.22.0->google-cloud-storage) (2.2.1)\n",
      "Requirement already satisfied: certifi>=2017.4.17 in c:\\users\\kj2od\\appdata\\local\\programs\\python\\python312\\lib\\site-packages (from requests<3.0.0,>=2.22.0->google-cloud-storage) (2024.2.2)\n",
      "Downloading google_cloud_storage-3.4.0-py3-none-any.whl (278 kB)\n",
      "   ---------------------------------------- 0.0/278.4 kB ? eta -:--:--\n",
      "   ----- ---------------------------------- 41.0/278.4 kB 1.9 MB/s eta 0:00:01\n",
      "   ---------------------------------------- 278.4/278.4 kB 5.7 MB/s eta 0:00:00\n",
      "Downloading google_cloud_core-2.4.3-py2.py3-none-any.whl (29 kB)\n",
      "Downloading google_crc32c-1.7.1-cp312-cp312-win_amd64.whl (33 kB)\n",
      "Downloading google_resumable_media-2.7.2-py2.py3-none-any.whl (81 kB)\n",
      "   ---------------------------------------- 0.0/81.3 kB ? eta -:--:--\n",
      "   ---------------------------------------- 81.3/81.3 kB ? eta 0:00:00\n",
      "Installing collected packages: google-crc32c, google-resumable-media, google-cloud-core, google-cloud-storage\n",
      "Successfully installed google-cloud-core-2.4.3 google-cloud-storage-3.4.0 google-crc32c-1.7.1 google-resumable-media-2.7.2\n",
      "Note: you may need to restart the kernel to use updated packages.\n"
     ]
    },
    {
     "name": "stderr",
     "output_type": "stream",
     "text": [
      "\n",
      "[notice] A new release of pip is available: 23.2.1 -> 25.2\n",
      "[notice] To update, run: python.exe -m pip install --upgrade pip\n"
     ]
    }
   ],
   "source": [
    "pip install google-cloud-storage google-api-python-client google-auth"
   ]
  },
  {
   "cell_type": "code",
   "execution_count": 7,
   "id": "52b27c26-2551-4b21-9f2d-8635eb2a2475",
   "metadata": {
    "collapsed": true,
    "jupyter": {
     "outputs_hidden": true
    }
   },
   "outputs": [
    {
     "name": "stdout",
     "output_type": "stream",
     "text": [
      "Creating instance my-python-project-test-vm in us-east4-b...\n",
      "Instance my-python-project-test-vm created successfully.\n"
     ]
    }
   ],
   "source": [
    "from google.cloud import compute_v1\n",
    "import os\n",
    "os.environ[\"GOOGLE_APPLICATION_CREDENTIALS\"] = r\"C:\\Users\\kj2od\\Documents\\ServerlessAI\\genial-caster-473015-f0-d2fdd5d3592d.json\"\n",
    "project_id = \"genial-caster-473015-f0\"  # Replace with your project ID\n",
    "zone = \"us-east4-b\"  # Replace with your desired zone\n",
    "instance_name = \"my-python-project-test-vm\"\n",
    "machine_type = f\"zones/{zone}/machineTypes/e2-medium\"  # Or another machine type\n",
    "source_image = \"projects/debian-cloud/global/images/family/debian-11\"\n",
    "instance_config = compute_v1.Instance(\n",
    "    name=instance_name,\n",
    "    machine_type=machine_type,\n",
    "    disks=[\n",
    "        compute_v1.AttachedDisk(\n",
    "            initialize_params=compute_v1.AttachedDiskInitializeParams(\n",
    "                source_image=source_image,\n",
    "                disk_size_gb=20,\n",
    "            ),\n",
    "            auto_delete=True,\n",
    "            boot=True,\n",
    "        )\n",
    "    ],\n",
    "    network_interfaces=[\n",
    "        compute_v1.NetworkInterface(\n",
    "            name=\"global/networks/default\",  # Or your custom network\n",
    "            access_configs=[compute_v1.AccessConfig(name=\"External NAT\", type=\"ONE_TO_ONE_NAT\")],\n",
    "        )\n",
    "    ],\n",
    "    # Add other configurations like metadata, service accounts, etc., as needed\n",
    ")\n",
    "instance_client = compute_v1.InstancesClient()\n",
    "request = compute_v1.InsertInstanceRequest(\n",
    "    project=project_id,\n",
    "    zone=zone,\n",
    "    instance_resource=instance_config,\n",
    ")\n",
    "print(f\"Creating instance {instance_name} in {zone}...\")\n",
    "operation = instance_client.insert(request=request)\n",
    "operation.result()  # Wait for the operation to complete\n",
    "print(f\"Instance {instance_name} created successfully.\")"
   ]
  },
  {
   "cell_type": "code",
   "execution_count": 3,
   "id": "ac76fe90-1a23-435a-81be-dfcc88faf6b8",
   "metadata": {
    "collapsed": true,
    "jupyter": {
     "outputs_hidden": true
    }
   },
   "outputs": [
    {
     "ename": "FileNotFoundError",
     "evalue": "[WinError 2] The system cannot find the file specified",
     "output_type": "error",
     "traceback": [
      "\u001b[31m---------------------------------------------------------------------------\u001b[39m",
      "\u001b[31mFileNotFoundError\u001b[39m                         Traceback (most recent call last)",
      "\u001b[36mCell\u001b[39m\u001b[36m \u001b[39m\u001b[32mIn[3]\u001b[39m\u001b[32m, line 11\u001b[39m\n\u001b[32m      4\u001b[39m instance_name = \u001b[33m\"\u001b[39m\u001b[33mmy-python-project-test-vm\u001b[39m\u001b[33m\"\u001b[39m\n\u001b[32m      6\u001b[39m cmd = [\n\u001b[32m      7\u001b[39m     \u001b[33m\"\u001b[39m\u001b[33mgcloud\u001b[39m\u001b[33m\"\u001b[39m, \u001b[33m\"\u001b[39m\u001b[33mcompute\u001b[39m\u001b[33m\"\u001b[39m, \u001b[33m\"\u001b[39m\u001b[33mssh\u001b[39m\u001b[33m\"\u001b[39m, instance_name,\n\u001b[32m      8\u001b[39m     \u001b[33mf\u001b[39m\u001b[33m\"\u001b[39m\u001b[33m--zone=\u001b[39m\u001b[38;5;132;01m{\u001b[39;00mzone\u001b[38;5;132;01m}\u001b[39;00m\u001b[33m\"\u001b[39m,\n\u001b[32m      9\u001b[39m     \u001b[33m\"\u001b[39m\u001b[33m--command\u001b[39m\u001b[33m\"\u001b[39m, \u001b[33m\"\u001b[39m\u001b[33mecho Hello from inside the VM\u001b[39m\u001b[33m\"\u001b[39m\n\u001b[32m     10\u001b[39m ]\n\u001b[32m---> \u001b[39m\u001b[32m11\u001b[39m \u001b[43msubprocess\u001b[49m\u001b[43m.\u001b[49m\u001b[43mrun\u001b[49m\u001b[43m(\u001b[49m\u001b[43mcmd\u001b[49m\u001b[43m)\u001b[49m\n",
      "\u001b[36mFile \u001b[39m\u001b[32m~\\AppData\\Local\\Programs\\Python\\Python312\\Lib\\subprocess.py:548\u001b[39m, in \u001b[36mrun\u001b[39m\u001b[34m(input, capture_output, timeout, check, *popenargs, **kwargs)\u001b[39m\n\u001b[32m    545\u001b[39m     kwargs[\u001b[33m'\u001b[39m\u001b[33mstdout\u001b[39m\u001b[33m'\u001b[39m] = PIPE\n\u001b[32m    546\u001b[39m     kwargs[\u001b[33m'\u001b[39m\u001b[33mstderr\u001b[39m\u001b[33m'\u001b[39m] = PIPE\n\u001b[32m--> \u001b[39m\u001b[32m548\u001b[39m \u001b[38;5;28;01mwith\u001b[39;00m \u001b[43mPopen\u001b[49m\u001b[43m(\u001b[49m\u001b[43m*\u001b[49m\u001b[43mpopenargs\u001b[49m\u001b[43m,\u001b[49m\u001b[43m \u001b[49m\u001b[43m*\u001b[49m\u001b[43m*\u001b[49m\u001b[43mkwargs\u001b[49m\u001b[43m)\u001b[49m \u001b[38;5;28;01mas\u001b[39;00m process:\n\u001b[32m    549\u001b[39m     \u001b[38;5;28;01mtry\u001b[39;00m:\n\u001b[32m    550\u001b[39m         stdout, stderr = process.communicate(\u001b[38;5;28minput\u001b[39m, timeout=timeout)\n",
      "\u001b[36mFile \u001b[39m\u001b[32m~\\AppData\\Local\\Programs\\Python\\Python312\\Lib\\subprocess.py:1026\u001b[39m, in \u001b[36mPopen.__init__\u001b[39m\u001b[34m(self, args, bufsize, executable, stdin, stdout, stderr, preexec_fn, close_fds, shell, cwd, env, universal_newlines, startupinfo, creationflags, restore_signals, start_new_session, pass_fds, user, group, extra_groups, encoding, errors, text, umask, pipesize, process_group)\u001b[39m\n\u001b[32m   1022\u001b[39m         \u001b[38;5;28;01mif\u001b[39;00m \u001b[38;5;28mself\u001b[39m.text_mode:\n\u001b[32m   1023\u001b[39m             \u001b[38;5;28mself\u001b[39m.stderr = io.TextIOWrapper(\u001b[38;5;28mself\u001b[39m.stderr,\n\u001b[32m   1024\u001b[39m                     encoding=encoding, errors=errors)\n\u001b[32m-> \u001b[39m\u001b[32m1026\u001b[39m     \u001b[38;5;28;43mself\u001b[39;49m\u001b[43m.\u001b[49m\u001b[43m_execute_child\u001b[49m\u001b[43m(\u001b[49m\u001b[43margs\u001b[49m\u001b[43m,\u001b[49m\u001b[43m \u001b[49m\u001b[43mexecutable\u001b[49m\u001b[43m,\u001b[49m\u001b[43m \u001b[49m\u001b[43mpreexec_fn\u001b[49m\u001b[43m,\u001b[49m\u001b[43m \u001b[49m\u001b[43mclose_fds\u001b[49m\u001b[43m,\u001b[49m\n\u001b[32m   1027\u001b[39m \u001b[43m                        \u001b[49m\u001b[43mpass_fds\u001b[49m\u001b[43m,\u001b[49m\u001b[43m \u001b[49m\u001b[43mcwd\u001b[49m\u001b[43m,\u001b[49m\u001b[43m \u001b[49m\u001b[43menv\u001b[49m\u001b[43m,\u001b[49m\n\u001b[32m   1028\u001b[39m \u001b[43m                        \u001b[49m\u001b[43mstartupinfo\u001b[49m\u001b[43m,\u001b[49m\u001b[43m \u001b[49m\u001b[43mcreationflags\u001b[49m\u001b[43m,\u001b[49m\u001b[43m \u001b[49m\u001b[43mshell\u001b[49m\u001b[43m,\u001b[49m\n\u001b[32m   1029\u001b[39m \u001b[43m                        \u001b[49m\u001b[43mp2cread\u001b[49m\u001b[43m,\u001b[49m\u001b[43m \u001b[49m\u001b[43mp2cwrite\u001b[49m\u001b[43m,\u001b[49m\n\u001b[32m   1030\u001b[39m \u001b[43m                        \u001b[49m\u001b[43mc2pread\u001b[49m\u001b[43m,\u001b[49m\u001b[43m \u001b[49m\u001b[43mc2pwrite\u001b[49m\u001b[43m,\u001b[49m\n\u001b[32m   1031\u001b[39m \u001b[43m                        \u001b[49m\u001b[43merrread\u001b[49m\u001b[43m,\u001b[49m\u001b[43m \u001b[49m\u001b[43merrwrite\u001b[49m\u001b[43m,\u001b[49m\n\u001b[32m   1032\u001b[39m \u001b[43m                        \u001b[49m\u001b[43mrestore_signals\u001b[49m\u001b[43m,\u001b[49m\n\u001b[32m   1033\u001b[39m \u001b[43m                        \u001b[49m\u001b[43mgid\u001b[49m\u001b[43m,\u001b[49m\u001b[43m \u001b[49m\u001b[43mgids\u001b[49m\u001b[43m,\u001b[49m\u001b[43m \u001b[49m\u001b[43muid\u001b[49m\u001b[43m,\u001b[49m\u001b[43m \u001b[49m\u001b[43mumask\u001b[49m\u001b[43m,\u001b[49m\n\u001b[32m   1034\u001b[39m \u001b[43m                        \u001b[49m\u001b[43mstart_new_session\u001b[49m\u001b[43m,\u001b[49m\u001b[43m \u001b[49m\u001b[43mprocess_group\u001b[49m\u001b[43m)\u001b[49m\n\u001b[32m   1035\u001b[39m \u001b[38;5;28;01mexcept\u001b[39;00m:\n\u001b[32m   1036\u001b[39m     \u001b[38;5;66;03m# Cleanup if the child failed starting.\u001b[39;00m\n\u001b[32m   1037\u001b[39m     \u001b[38;5;28;01mfor\u001b[39;00m f \u001b[38;5;129;01min\u001b[39;00m \u001b[38;5;28mfilter\u001b[39m(\u001b[38;5;28;01mNone\u001b[39;00m, (\u001b[38;5;28mself\u001b[39m.stdin, \u001b[38;5;28mself\u001b[39m.stdout, \u001b[38;5;28mself\u001b[39m.stderr)):\n",
      "\u001b[36mFile \u001b[39m\u001b[32m~\\AppData\\Local\\Programs\\Python\\Python312\\Lib\\subprocess.py:1538\u001b[39m, in \u001b[36mPopen._execute_child\u001b[39m\u001b[34m(self, args, executable, preexec_fn, close_fds, pass_fds, cwd, env, startupinfo, creationflags, shell, p2cread, p2cwrite, c2pread, c2pwrite, errread, errwrite, unused_restore_signals, unused_gid, unused_gids, unused_uid, unused_umask, unused_start_new_session, unused_process_group)\u001b[39m\n\u001b[32m   1536\u001b[39m \u001b[38;5;66;03m# Start the process\u001b[39;00m\n\u001b[32m   1537\u001b[39m \u001b[38;5;28;01mtry\u001b[39;00m:\n\u001b[32m-> \u001b[39m\u001b[32m1538\u001b[39m     hp, ht, pid, tid = \u001b[43m_winapi\u001b[49m\u001b[43m.\u001b[49m\u001b[43mCreateProcess\u001b[49m\u001b[43m(\u001b[49m\u001b[43mexecutable\u001b[49m\u001b[43m,\u001b[49m\u001b[43m \u001b[49m\u001b[43margs\u001b[49m\u001b[43m,\u001b[49m\n\u001b[32m   1539\u001b[39m \u001b[43m                             \u001b[49m\u001b[38;5;66;43;03m# no special security\u001b[39;49;00m\n\u001b[32m   1540\u001b[39m \u001b[43m                             \u001b[49m\u001b[38;5;28;43;01mNone\u001b[39;49;00m\u001b[43m,\u001b[49m\u001b[43m \u001b[49m\u001b[38;5;28;43;01mNone\u001b[39;49;00m\u001b[43m,\u001b[49m\n\u001b[32m   1541\u001b[39m \u001b[43m                             \u001b[49m\u001b[38;5;28;43mint\u001b[39;49m\u001b[43m(\u001b[49m\u001b[38;5;129;43;01mnot\u001b[39;49;00m\u001b[43m \u001b[49m\u001b[43mclose_fds\u001b[49m\u001b[43m)\u001b[49m\u001b[43m,\u001b[49m\n\u001b[32m   1542\u001b[39m \u001b[43m                             \u001b[49m\u001b[43mcreationflags\u001b[49m\u001b[43m,\u001b[49m\n\u001b[32m   1543\u001b[39m \u001b[43m                             \u001b[49m\u001b[43menv\u001b[49m\u001b[43m,\u001b[49m\n\u001b[32m   1544\u001b[39m \u001b[43m                             \u001b[49m\u001b[43mcwd\u001b[49m\u001b[43m,\u001b[49m\n\u001b[32m   1545\u001b[39m \u001b[43m                             \u001b[49m\u001b[43mstartupinfo\u001b[49m\u001b[43m)\u001b[49m\n\u001b[32m   1546\u001b[39m \u001b[38;5;28;01mfinally\u001b[39;00m:\n\u001b[32m   1547\u001b[39m     \u001b[38;5;66;03m# Child is launched. Close the parent's copy of those pipe\u001b[39;00m\n\u001b[32m   1548\u001b[39m     \u001b[38;5;66;03m# handles that only the child should have open.  You need\u001b[39;00m\n\u001b[32m   (...)\u001b[39m\u001b[32m   1551\u001b[39m     \u001b[38;5;66;03m# pipe will not close when the child process exits and the\u001b[39;00m\n\u001b[32m   1552\u001b[39m     \u001b[38;5;66;03m# ReadFile will hang.\u001b[39;00m\n\u001b[32m   1553\u001b[39m     \u001b[38;5;28mself\u001b[39m._close_pipe_fds(p2cread, p2cwrite,\n\u001b[32m   1554\u001b[39m                          c2pread, c2pwrite,\n\u001b[32m   1555\u001b[39m                          errread, errwrite)\n",
      "\u001b[31mFileNotFoundError\u001b[39m: [WinError 2] The system cannot find the file specified"
     ]
    }
   ],
   "source": [
    "import subprocess\n",
    "\n",
    "zone = \"us-east4-b\"\n",
    "instance_name = \"my-python-project-test-vm\"\n",
    "\n",
    "cmd = [\n",
    "    \"gcloud\", \"compute\", \"ssh\", instance_name,\n",
    "    f\"--zone={zone}\",\n",
    "    \"--command\", \"echo Hello from inside the VM\"\n",
    "]\n",
    "subprocess.run(cmd)"
   ]
  },
  {
   "cell_type": "code",
   "execution_count": 2,
   "id": "b6f534e3-1cb2-4ec6-b290-e0c9c2e442f5",
   "metadata": {},
   "outputs": [
    {
     "name": "stdout",
     "output_type": "stream",
     "text": [
      "intitializing input\n",
      "creating vm\n",
      "create bucket\n",
      "Created temporary bucket: temp-bucket-30470839\n",
      "Buckets in project:\n",
      "- servelss-ai-test\n",
      "- temp-bucket-30470839\n",
      "upload file\n",
      "Uploaded myscript.py to gs://temp-bucket-30470839/myscript.py\n",
      "Files in bucket 'temp-bucket-30470839':\n",
      "- myscript.py\n",
      "VM vm-2ac69f53 is being created...\n",
      "Creating instance vm-2ac69f53 in us-east4-b...\n",
      "DONE\n",
      "Files in bucket 'temp-bucket-30470839':\n",
      "still waiting\n",
      "still waiting\n",
      "still waiting\n",
      "still waiting\n",
      "still waiting\n",
      "still waiting\n",
      "still waiting\n",
      "RESULTS:\n",
      "Hello World\n",
      "HELLO WORLD!!!!\n",
      "\n",
      "VM vm-2ac69f53 deletion requested.\n",
      "Deleted bucket: temp-bucket-30470839\n",
      "All done. VM and bucket cleaned up.\n"
     ]
    }
   ],
   "source": [
    "from vmSpinUp import CloudVM  # assuming you saved the class in mypackage.py\n",
    "\n",
    "# Path to your service account JSON file\n",
    "service_account_file = r\"C:\\Users\\kj2od\\Documents\\ServerlessAI\\genial-caster-473015-f0-d2fdd5d3592d.json\"\n",
    "\n",
    "# Your GCP project ID\n",
    "project_id = \"genial-caster-473015-f0\"\n",
    "\n",
    "# Optional: specify a different zone or machine type\n",
    "zone = \"us-east4-b\"\n",
    "machine_type = \"e2-medium\"\n",
    "image = \"debian-11\"\n",
    "\n",
    "# Create the CloudVM object\n",
    "vm = CloudVM(\n",
    "    service_account_file=service_account_file,\n",
    "    project_id=project_id,\n",
    "    zone=zone,\n",
    "    machine_type=machine_type,\n",
    "    image=image,\n",
    "    file='myscript.py'\n",
    ")\n",
    "\n",
    "# vm.create_vm()\n",
    "\n"
   ]
  },
  {
   "cell_type": "code",
   "execution_count": 2,
   "id": "d3484b52-e99c-4a68-85ed-78d4eb0d58bd",
   "metadata": {},
   "outputs": [
    {
     "name": "stdout",
     "output_type": "stream",
     "text": [
      "4\n"
     ]
    }
   ],
   "source": [
    "print(2*2)"
   ]
  },
  {
   "cell_type": "code",
   "execution_count": 2,
   "id": "f14b9644-0f2f-4d85-b113-ad31fc67b8c0",
   "metadata": {},
   "outputs": [
    {
     "name": "stdout",
     "output_type": "stream",
     "text": [
      "🚀 Creating VM vm-12bb7931 in us-east4-b...\n",
      "✅ VM vm-12bb7931 created successfully!\n",
      "🧠 Executing code remotely...\n",
      "google\n",
      "C:\\Users\\kj2od\\AppData\\Local\\Google\\Cloud SDK\\google-cloud-sdk\\bin\\gcloud.CMD\n",
      "⏳ Waiting for VM SSH...\n",
      "✅ VM SSH is ready!\n",
      "🚀 Running command on VM vm-12bb7931 ...\n",
      "✅ Command executed successfully!\n",
      "----- STDOUT -----\n",
      "Hello from the cloud VM!\n",
      "Working YIPEEE... 0\n",
      "Working YIPEEE... 1\n",
      "Working YIPEEE... 2\n",
      "Working YIPEEE... 3\n",
      "Working YIPEEE... 4\n",
      "Done!\n",
      "\n",
      "------------------\n",
      "🧹 Deleting VM vm-12bb7931...\n",
      "✅ VM deleted.\n"
     ]
    }
   ],
   "source": [
    "from sshCommands import CloudVM\n",
    "# Path to your service account JSON file\n",
    "service_account_file = r\"C:\\Users\\kj2od\\Documents\\ServerlessAI\\genial-caster-473015-f0-d2fdd5d3592d.json\"\n",
    "\n",
    "# Your GCP project ID\n",
    "project_id = \"genial-caster-473015-f0\"\n",
    "zone = \"us-east4-b\"\n",
    "\n",
    "cell_code = \"\"\"\n",
    "import time\n",
    "print('Hello from the cloud VM!')\n",
    "for i in range(5):\n",
    "    print('Working YIPEEE...', i)\n",
    "    time.sleep(1)\n",
    "print('Done!')\n",
    "\"\"\"\n",
    "\n",
    "vm = CloudVM(\n",
    "    service_account_file=service_account_file,\n",
    "    project_id=project_id,\n",
    "    zone=zone\n",
    ")\n",
    "\n",
    "vm.create_vm()\n",
    "try:\n",
    "    vm.run_code(cell_code)\n",
    "except Exception as e:\n",
    "    print(f\"❌ An error occurred while running code on the VM:\\n{e}\")\n",
    "finally:\n",
    "    vm.delete_vm()\n"
   ]
  },
  {
   "cell_type": "code",
   "execution_count": null,
   "id": "88d2db08-20ed-4194-8704-de10c4f69d0c",
   "metadata": {},
   "outputs": [],
   "source": []
  },
  {
   "cell_type": "code",
   "execution_count": null,
   "id": "2fbbb58e-99b4-4e67-90d7-acfe908dadc3",
   "metadata": {},
   "outputs": [],
   "source": []
  },
  {
   "cell_type": "code",
   "execution_count": null,
   "id": "0fd0b721-953c-4b80-8c66-0a6c38837879",
   "metadata": {},
   "outputs": [],
   "source": []
  }
 ],
 "metadata": {
  "kernelspec": {
   "display_name": "Python 3 (ipykernel)",
   "language": "python",
   "name": "python3"
  },
  "language_info": {
   "codemirror_mode": {
    "name": "ipython",
    "version": 3
   },
   "file_extension": ".py",
   "mimetype": "text/x-python",
   "name": "python",
   "nbconvert_exporter": "python",
   "pygments_lexer": "ipython3",
   "version": "3.12.1"
  }
 },
 "nbformat": 4,
 "nbformat_minor": 5
}
