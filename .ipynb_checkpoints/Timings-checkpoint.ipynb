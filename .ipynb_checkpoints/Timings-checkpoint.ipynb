{
 "cells": [
  {
   "cell_type": "code",
   "execution_count": 1,
   "id": "b778c409-9c3e-40fc-820f-ac944c890272",
   "metadata": {},
   "outputs": [],
   "source": [
    "%load_ext magic.runvm"
   ]
  },
  {
   "cell_type": "code",
   "execution_count": 6,
   "id": "5b14d913-1245-4044-ae11-fb836975d610",
   "metadata": {},
   "outputs": [
    {
     "name": "stdout",
     "output_type": "stream",
     "text": [
      "Hello World\n",
      "Total time: 0.00 seconds\n"
     ]
    }
   ],
   "source": [
    "import time\n",
    "# start= time.time()\n",
    "%runvm print(\"Hello World\")\n",
    "# end= time.time()\n",
    "# print(f\"Total time: {end - start:.2f} seconds\")"
   ]
  },
  {
   "cell_type": "code",
   "execution_count": null,
   "id": "a92264d3-2557-439b-a05a-7ac0da65a348",
   "metadata": {},
   "outputs": [],
   "source": []
  }
 ],
 "metadata": {
  "kernelspec": {
   "display_name": "Python 3 (ipykernel)",
   "language": "python",
   "name": "python3"
  },
  "language_info": {
   "codemirror_mode": {
    "name": "ipython",
    "version": 3
   },
   "file_extension": ".py",
   "mimetype": "text/x-python",
   "name": "python",
   "nbconvert_exporter": "python",
   "pygments_lexer": "ipython3",
   "version": "3.12.1"
  }
 },
 "nbformat": 4,
 "nbformat_minor": 5
}
