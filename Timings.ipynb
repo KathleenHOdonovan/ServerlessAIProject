{
 "cells": [
  {
   "cell_type": "code",
   "execution_count": 1,
   "id": "b778c409-9c3e-40fc-820f-ac944c890272",
   "metadata": {},
   "outputs": [],
   "source": [
    "%reload_ext magic.runvm"
   ]
  },
  {
   "cell_type": "code",
   "execution_count": 2,
   "id": "5b14d913-1245-4044-ae11-fb836975d610",
   "metadata": {},
   "outputs": [
    {
     "name": "stdout",
     "output_type": "stream",
     "text": [
      "🚀 Creating VM vm-66822ee7 in us-east4-b...\n",
      "✅ VM vm-66822ee7 created successfully!\n",
      "🧠 Executing code remotely...\n",
      "⏳ Waiting for VM SSH...\n",
      "⏳ Waiting for VM SSH...\n",
      "✅ VM SSH is ready!\n",
      "🚀 Running command on VM vm-66822ee7 ...\n",
      "✅ Command executed successfully!\n",
      "----- STDOUT -----\n",
      "Hello World\n",
      "\n",
      "------------------\n",
      "🧹 Deleting VM vm-66822ee7...\n",
      "✅ VM deleted.\n"
     ]
    },
    {
     "data": {
      "text/plain": [
       "'Ran on a gpu here is the result'"
      ]
     },
     "execution_count": 2,
     "metadata": {},
     "output_type": "execute_result"
    }
   ],
   "source": [
    "import time\n",
    "# start= time.time()\n",
    "%runvm print(\"Hello World\")\n",
    "# end= time.time()\n",
    "# print(f\"Total time: {end - start:.2f} seconds\")"
   ]
  },
  {
   "cell_type": "code",
   "execution_count": null,
   "id": "a92264d3-2557-439b-a05a-7ac0da65a348",
   "metadata": {},
   "outputs": [],
   "source": []
  }
 ],
 "metadata": {
  "kernelspec": {
   "display_name": "Python 3 (ipykernel)",
   "language": "python",
   "name": "python3"
  },
  "language_info": {
   "codemirror_mode": {
    "name": "ipython",
    "version": 3
   },
   "file_extension": ".py",
   "mimetype": "text/x-python",
   "name": "python",
   "nbconvert_exporter": "python",
   "pygments_lexer": "ipython3",
   "version": "3.12.1"
  }
 },
 "nbformat": 4,
 "nbformat_minor": 5
}
